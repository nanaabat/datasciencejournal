{
 "cells": [
  {
   "cell_type": "markdown",
   "metadata": {},
   "source": [
    "# LINKED LIST"
   ]
  },
  {
   "cell_type": "code",
   "execution_count": 3,
   "metadata": {},
   "outputs": [],
   "source": [
    "class Node:\n",
    "    def __init__(self, dataval):\n",
    "        self.dataval = dataval\n",
    "        self.nextval = None"
   ]
  },
  {
   "cell_type": "code",
   "execution_count": 9,
   "metadata": {},
   "outputs": [],
   "source": [
    "class SLinkedList:\n",
    "    def __init__(self):\n",
    "        self.headval = None\n",
    "        \n",
    "    def listprint(self):\n",
    "        printval = self.headval\n",
    "        while printval is not None:\n",
    "            print(printval.dataval)\n",
    "            printval.nextval\n",
    "        \n",
    "        "
   ]
  },
  {
   "cell_type": "code",
   "execution_count": 10,
   "metadata": {},
   "outputs": [],
   "source": [
    "list = SLinkedList()"
   ]
  },
  {
   "cell_type": "code",
   "execution_count": 16,
   "metadata": {},
   "outputs": [],
   "source": [
    "list.headval = Node(\"Mon\")"
   ]
  },
  {
   "cell_type": "code",
   "execution_count": 17,
   "metadata": {},
   "outputs": [],
   "source": [
    "e2 = Node(\"Tue\")\n",
    "e3 = Node(\"Wed\")"
   ]
  },
  {
   "cell_type": "code",
   "execution_count": 24,
   "metadata": {},
   "outputs": [],
   "source": [
    "list.headval.nextval = e2\n",
    "e2.nextval = e3"
   ]
  },
  {
   "cell_type": "code",
   "execution_count": null,
   "metadata": {},
   "outputs": [],
   "source": []
  },
  {
   "cell_type": "code",
   "execution_count": 25,
   "metadata": {
    "scrolled": true
   },
   "outputs": [
    {
     "name": "stdout",
     "output_type": "stream",
     "text": [
      "Mon\n",
      "Tue\n",
      "Wed\n"
     ]
    }
   ],
   "source": [
    "list.listprint()"
   ]
  },
  {
   "cell_type": "code",
   "execution_count": 15,
   "metadata": {},
   "outputs": [
    {
     "name": "stdout",
     "output_type": "stream",
     "text": [
      "Mon\n",
      "Tue\n",
      "Wed\n"
     ]
    }
   ],
   "source": []
  },
  {
   "cell_type": "markdown",
   "metadata": {},
   "source": [
    "# STACKS"
   ]
  },
  {
   "cell_type": "markdown",
   "metadata": {},
   "source": [
    "Linear data structure which stores elements in a LIFO manner - Last In, First Out \n",
    "\n",
    "\n",
    "Three ways to implement it \n",
    "\n",
    "- list\n",
    "- collections\n",
    "- queue.LifoQueue\n",
    "\n"
   ]
  },
  {
   "cell_type": "code",
   "execution_count": 118,
   "metadata": {},
   "outputs": [
    {
     "data": {
      "text/plain": [
       "[1, 2, 3]"
      ]
     },
     "execution_count": 118,
     "metadata": {},
     "output_type": "execute_result"
    }
   ],
   "source": [
    "s = []\n",
    "\n",
    "s.append(1)\n",
    "s.append(2)\n",
    "s.append(3)\n",
    "s"
   ]
  },
  {
   "cell_type": "code",
   "execution_count": 119,
   "metadata": {},
   "outputs": [
    {
     "data": {
      "text/plain": [
       "3"
      ]
     },
     "execution_count": 119,
     "metadata": {},
     "output_type": "execute_result"
    }
   ],
   "source": [
    "#remove\n",
    "s.pop()"
   ]
  },
  {
   "cell_type": "code",
   "execution_count": 120,
   "metadata": {},
   "outputs": [
    {
     "data": {
      "text/plain": [
       "[1, 2]"
      ]
     },
     "execution_count": 120,
     "metadata": {},
     "output_type": "execute_result"
    }
   ],
   "source": [
    "s"
   ]
  },
  {
   "cell_type": "code",
   "execution_count": 122,
   "metadata": {},
   "outputs": [
    {
     "data": {
      "text/plain": [
       "deque([1, 2, 3])"
      ]
     },
     "execution_count": 122,
     "metadata": {},
     "output_type": "execute_result"
    }
   ],
   "source": [
    "#using collections\n",
    "\n",
    "from collections import deque\n",
    "\n",
    "st = deque()\n",
    "\n",
    "st.append(1)\n",
    "st.append(2)\n",
    "st.append(3)\n",
    "\n",
    "st"
   ]
  },
  {
   "cell_type": "code",
   "execution_count": 123,
   "metadata": {},
   "outputs": [
    {
     "data": {
      "text/plain": [
       "3"
      ]
     },
     "execution_count": 123,
     "metadata": {},
     "output_type": "execute_result"
    }
   ],
   "source": [
    "#remove element\n",
    "st.pop()"
   ]
  },
  {
   "cell_type": "code",
   "execution_count": 124,
   "metadata": {},
   "outputs": [
    {
     "data": {
      "text/plain": [
       "deque([1, 2])"
      ]
     },
     "execution_count": 124,
     "metadata": {},
     "output_type": "execute_result"
    }
   ],
   "source": [
    "st"
   ]
  },
  {
   "cell_type": "code",
   "execution_count": 127,
   "metadata": {},
   "outputs": [
    {
     "data": {
      "text/plain": [
       "<queue.LifoQueue at 0x7fccd2865b50>"
      ]
     },
     "execution_count": 127,
     "metadata": {},
     "output_type": "execute_result"
    }
   ],
   "source": [
    "#using LifoQueue\n",
    "\n",
    "from queue import LifoQueue\n",
    "\n",
    "sta = LifoQueue(3)\n",
    "\n",
    "sta.put(1)\n",
    "sta.put(2)\n",
    "sta.put(3)\n",
    "\n",
    "sta"
   ]
  },
  {
   "cell_type": "code",
   "execution_count": 128,
   "metadata": {},
   "outputs": [
    {
     "data": {
      "text/plain": [
       "3"
      ]
     },
     "execution_count": 128,
     "metadata": {},
     "output_type": "execute_result"
    }
   ],
   "source": [
    "#remove \n",
    "\n",
    "sta.get()"
   ]
  },
  {
   "cell_type": "markdown",
   "metadata": {},
   "source": [
    "# QUEUES"
   ]
  },
  {
   "cell_type": "markdown",
   "metadata": {},
   "source": [
    "Queue is a linear data structure that stores elements in FIFO manner. First In First Out. \n",
    "\n",
    "Enqueue: Adds an item to the queue. If the queue is full then it is an overflow condition. Time Complexity: 0(1).\n",
    "\n",
    "Dequeu: Removes an item from the queue. The items are popped in the same order in which they are pushed. If the queue is emoty, then it is said to be an underflow condition. Time Complexity: 0(1)\n",
    "\n",
    "Front: get the front item from queue - Time Complexity: 0(1)\n",
    "\n",
    "Rear: Get the last item from queue - Time Complexity: 0(1)\n",
    "\n",
    "Three ways to implement Queues\n",
    "\n",
    "- list\n",
    "- collection.deque\n",
    "- queue.Queue\n",
    "\n",
    "Source:https://www.geeksforgeeks.org/queue-in-python/"
   ]
  },
  {
   "cell_type": "code",
   "execution_count": 108,
   "metadata": {},
   "outputs": [
    {
     "name": "stdout",
     "output_type": "stream",
     "text": [
      "Initial queue\n",
      "['a', 'b', 'c']\n"
     ]
    }
   ],
   "source": [
    "#List Implementation - uses append and pop instead of enqueue and dequeue\n",
    "#deleting an element requires shifting requiring 0(n) time\n",
    "\n",
    "#\n",
    "q = []\n",
    "\n",
    "#adding elements\n",
    "q.append('a')\n",
    "q.append('b')\n",
    "q.append('c')\n",
    "\n",
    "print(\"Initial queue\")\n",
    "print(q)\n",
    "\n"
   ]
  },
  {
   "cell_type": "code",
   "execution_count": 109,
   "metadata": {},
   "outputs": [
    {
     "data": {
      "text/plain": [
       "['b', 'c']"
      ]
     },
     "execution_count": 109,
     "metadata": {},
     "output_type": "execute_result"
    }
   ],
   "source": [
    "#pops first element\n",
    "q.pop(0)\n",
    "q"
   ]
  },
  {
   "cell_type": "code",
   "execution_count": 110,
   "metadata": {},
   "outputs": [
    {
     "data": {
      "text/plain": [
       "'c'"
      ]
     },
     "execution_count": 110,
     "metadata": {},
     "output_type": "execute_result"
    }
   ],
   "source": [
    "#pops last element\n",
    "q.pop()"
   ]
  },
  {
   "cell_type": "code",
   "execution_count": 111,
   "metadata": {},
   "outputs": [
    {
     "data": {
      "text/plain": [
       "['b']"
      ]
     },
     "execution_count": 111,
     "metadata": {},
     "output_type": "execute_result"
    }
   ],
   "source": [
    "q"
   ]
  },
  {
   "cell_type": "code",
   "execution_count": 112,
   "metadata": {},
   "outputs": [
    {
     "data": {
      "text/plain": [
       "deque(['a', 'b', 'c'])"
      ]
     },
     "execution_count": 112,
     "metadata": {},
     "output_type": "execute_result"
    }
   ],
   "source": [
    "#use of collections.deque \n",
    "\n",
    "from collections import deque\n",
    "\n",
    "qu = deque()\n",
    "\n",
    "qu.append('a')\n",
    "qu.append('b')\n",
    "qu.append('c')\n",
    "\n",
    "qu"
   ]
  },
  {
   "cell_type": "code",
   "execution_count": 113,
   "metadata": {},
   "outputs": [
    {
     "data": {
      "text/plain": [
       "'a'"
      ]
     },
     "execution_count": 113,
     "metadata": {},
     "output_type": "execute_result"
    }
   ],
   "source": [
    "qu.popleft()"
   ]
  },
  {
   "cell_type": "code",
   "execution_count": 114,
   "metadata": {},
   "outputs": [
    {
     "data": {
      "text/plain": [
       "deque(['b', 'c'])"
      ]
     },
     "execution_count": 114,
     "metadata": {},
     "output_type": "execute_result"
    }
   ],
   "source": [
    "qu"
   ]
  },
  {
   "cell_type": "code",
   "execution_count": 116,
   "metadata": {},
   "outputs": [
    {
     "data": {
      "text/plain": [
       "<queue.Queue at 0x7fccd27d6090>"
      ]
     },
     "execution_count": 116,
     "metadata": {},
     "output_type": "execute_result"
    }
   ],
   "source": [
    "#use of queue.Queue\n",
    "\n",
    "from queue import Queue\n",
    "\n",
    "que = Queue(maxsize = 3)\n",
    "\n",
    "que.put('a')\n",
    "que.put('b')\n",
    "que.put('c')\n",
    "\n",
    "que"
   ]
  },
  {
   "cell_type": "code",
   "execution_count": 117,
   "metadata": {},
   "outputs": [
    {
     "data": {
      "text/plain": [
       "'a'"
      ]
     },
     "execution_count": 117,
     "metadata": {},
     "output_type": "execute_result"
    }
   ],
   "source": [
    "#removing elements \n",
    "\n",
    "que.get()"
   ]
  },
  {
   "cell_type": "markdown",
   "metadata": {},
   "source": [
    "Min Heap - if the the parent node is less than or qual to its child node \n",
    "\n",
    "Max Heap - if the parent node is greater or equal to its child\n",
    "\n",
    "\n",
    "This data structure is very useful when it comes to implementing priority quese where the ques item with higher weigtage is given more priority in processing\n",
    "\n",
    "Sources: https://www.tutorialspoint.com/python_data_structure/python_heaps.htm"
   ]
  },
  {
   "cell_type": "code",
   "execution_count": 102,
   "metadata": {},
   "outputs": [
    {
     "name": "stdout",
     "output_type": "stream",
     "text": [
      "[1, 3, 5, 78, 21, 45]\n"
     ]
    }
   ],
   "source": [
    "#Creating a heap\n",
    "\n",
    "import heapq\n",
    "\n",
    "H = [21,1,45,78,3,5]\n",
    "\n",
    "#Use heapify to rearrange the elements\n",
    "heapq.heapify(H)\n",
    "print(H)"
   ]
  },
  {
   "cell_type": "code",
   "execution_count": 103,
   "metadata": {},
   "outputs": [
    {
     "name": "stdout",
     "output_type": "stream",
     "text": [
      "[1, 3, 5, 78, 21, 45, 8]\n"
     ]
    }
   ],
   "source": [
    "#insering into a heap\n",
    "\n",
    "heapq.heappush(H, 8)\n",
    "print(H)"
   ]
  },
  {
   "cell_type": "code",
   "execution_count": 104,
   "metadata": {},
   "outputs": [
    {
     "name": "stdout",
     "output_type": "stream",
     "text": [
      "[1, 3, 5, 78, 21, 45, 8]\n"
     ]
    }
   ],
   "source": [
    "heapq.heapify(H)\n",
    "print(H)"
   ]
  },
  {
   "cell_type": "code",
   "execution_count": 105,
   "metadata": {},
   "outputs": [
    {
     "name": "stdout",
     "output_type": "stream",
     "text": [
      "[3, 8, 5, 78, 21, 45]\n"
     ]
    }
   ],
   "source": [
    "#removing from a heap - removes the first element\n",
    "heapq.heappop(H)\n",
    "print(H)"
   ]
  },
  {
   "cell_type": "code",
   "execution_count": 106,
   "metadata": {},
   "outputs": [
    {
     "name": "stdout",
     "output_type": "stream",
     "text": [
      "[5, 8, 45, 78, 21]\n"
     ]
    }
   ],
   "source": [
    "heapq.heappop(H)\n",
    "print(H)"
   ]
  },
  {
   "cell_type": "code",
   "execution_count": 107,
   "metadata": {},
   "outputs": [
    {
     "name": "stdout",
     "output_type": "stream",
     "text": [
      "[6, 8, 45, 78, 21]\n"
     ]
    }
   ],
   "source": [
    "#replacing in a heap - replaces the first element\n",
    "heapq.heapreplace(H,6)\n",
    "print(H)"
   ]
  },
  {
   "cell_type": "markdown",
   "metadata": {},
   "source": [
    "# HASHTABLES"
   ]
  },
  {
   "cell_type": "markdown",
   "metadata": {},
   "source": [
    "Friday, 26th February, 2021\n",
    "\n",
    "HashTables, Hash\n",
    "\n",
    "\n",
    "\n",
    "Hastables \n",
    "- which the address or the index value of the data element is generated from a hash function \n",
    "- makes access data faster as the index behaves as a ket for the data value\n",
    "- In other words Hash tables stores key-value pairs but the key is generated through a hashing function\n",
    "- searching and inserting function of the data element becomes much faster as the key values themselves become the index of the arry which stores the data \n",
    "\n",
    "\n",
    "In Python the Dictionary data types represent the implementation of hash tables. The Keys in the dictionary satisfy the following requirements\n",
    "\n",
    "- The keys of the dictionary are hashable i.e they are generated by hashing function which generates unique result for each uniquw value supplied to the hash function\n",
    "\n",
    "- The order of data elements in a dictionary is not fixed \n",
    "\n",
    "\n",
    "Source: https://www.tutorialspoint.com/python_data_structure/python_hash_table.htm\n"
   ]
  },
  {
   "cell_type": "markdown",
   "metadata": {},
   "source": [
    "## ACCESSING VALUES IN DICTIONARY\n",
    "\n",
    "TO access dictionary elements, you can use the familar square brackets along with the key to obtain its value"
   ]
  },
  {
   "cell_type": "code",
   "execution_count": 1,
   "metadata": {},
   "outputs": [],
   "source": [
    "\n",
    "dict = {'Name': 'Zara', 'Age': 7, 'Class': 'First'}"
   ]
  },
  {
   "cell_type": "code",
   "execution_count": 5,
   "metadata": {},
   "outputs": [
    {
     "name": "stdout",
     "output_type": "stream",
     "text": [
      "dict['Name']:  Zara\n",
      "dict['Age']:  7\n"
     ]
    }
   ],
   "source": [
    "#Access the dictionary with its key\n",
    "print (\"dict['Name']: \", dict['Name'])\n",
    "print (\"dict['Age']: \", dict['Age'])"
   ]
  },
  {
   "cell_type": "markdown",
   "metadata": {},
   "source": [
    "## UPDATING DICTIONARY\n",
    "\n",
    "You can update a dictionary by adding a new entry or a key-value pair, modifying an exisiting entry, or deleting an exisitng entry as shown below "
   ]
  },
  {
   "cell_type": "code",
   "execution_count": 7,
   "metadata": {},
   "outputs": [
    {
     "name": "stdout",
     "output_type": "stream",
     "text": [
      "{'Name': 'Zara', 'Age': 7, 'Class': 'First'}\n"
     ]
    }
   ],
   "source": [
    "#declare a dictionary\n",
    "\n",
    "print(dict)"
   ]
  },
  {
   "cell_type": "code",
   "execution_count": 9,
   "metadata": {},
   "outputs": [],
   "source": [
    "dict['Age'] = 8 #updating an existing entry"
   ]
  },
  {
   "cell_type": "code",
   "execution_count": 10,
   "metadata": {},
   "outputs": [
    {
     "name": "stdout",
     "output_type": "stream",
     "text": [
      "{'Name': 'Zara', 'Age': 8, 'Class': 'First'}\n"
     ]
    }
   ],
   "source": [
    "print(dict)"
   ]
  },
  {
   "cell_type": "code",
   "execution_count": 11,
   "metadata": {},
   "outputs": [],
   "source": [
    "dict['School'] = 'DPS School' #new entry"
   ]
  },
  {
   "cell_type": "code",
   "execution_count": 12,
   "metadata": {},
   "outputs": [
    {
     "name": "stdout",
     "output_type": "stream",
     "text": [
      "{'Name': 'Zara', 'Age': 8, 'Class': 'First', 'School': 'DPS School'}\n"
     ]
    }
   ],
   "source": [
    "print(dict)"
   ]
  },
  {
   "cell_type": "code",
   "execution_count": 15,
   "metadata": {},
   "outputs": [],
   "source": [
    "dict['Name'] = 'Zara' #new entry"
   ]
  },
  {
   "cell_type": "code",
   "execution_count": 16,
   "metadata": {},
   "outputs": [],
   "source": [
    "del dict['Name'] #remove entry with the Key 'Name'"
   ]
  },
  {
   "cell_type": "code",
   "execution_count": 17,
   "metadata": {},
   "outputs": [
    {
     "data": {
      "text/plain": [
       "{'Age': 8, 'Class': 'First', 'School': 'DPS School'}"
      ]
     },
     "execution_count": 17,
     "metadata": {},
     "output_type": "execute_result"
    }
   ],
   "source": [
    "dict"
   ]
  },
  {
   "cell_type": "code",
   "execution_count": 19,
   "metadata": {},
   "outputs": [],
   "source": [
    "#remove all entries in diction \n",
    "\n",
    "dict.clear()"
   ]
  },
  {
   "cell_type": "code",
   "execution_count": 20,
   "metadata": {},
   "outputs": [
    {
     "data": {
      "text/plain": [
       "{}"
      ]
     },
     "execution_count": 20,
     "metadata": {},
     "output_type": "execute_result"
    }
   ],
   "source": [
    "dict"
   ]
  },
  {
   "cell_type": "code",
   "execution_count": 22,
   "metadata": {},
   "outputs": [],
   "source": [
    "dict['Name'] = 'Nana Aba'\n",
    "dict['Age'] = 12\n",
    "dict['School'] = 'Mount Holyoke College'"
   ]
  },
  {
   "cell_type": "code",
   "execution_count": 23,
   "metadata": {},
   "outputs": [
    {
     "data": {
      "text/plain": [
       "{'Name': 'Nana Aba', 'Age': 12, 'School': 'Mount Holyoke College'}"
      ]
     },
     "execution_count": 23,
     "metadata": {},
     "output_type": "execute_result"
    }
   ],
   "source": [
    "dict"
   ]
  },
  {
   "cell_type": "code",
   "execution_count": 25,
   "metadata": {},
   "outputs": [],
   "source": [
    "#delete entire dictionary \n",
    "del dict"
   ]
  },
  {
   "cell_type": "code",
   "execution_count": 26,
   "metadata": {},
   "outputs": [
    {
     "data": {
      "text/plain": [
       "dict"
      ]
     },
     "execution_count": 26,
     "metadata": {},
     "output_type": "execute_result"
    }
   ],
   "source": [
    "dict"
   ]
  },
  {
   "cell_type": "markdown",
   "metadata": {},
   "source": [
    "## Hashing \n",
    "\n",
    "Hashing is the process of using an algorithm to map data of any size to a fixed length. This is called a hash value. \n",
    "\n",
    "Hashing is used to create a high performance direct access data structures where large amount of data is to be stored and accessed quiclly. \n",
    "\n",
    "Hash values are computed with hash functions \n",
    "\n",
    "\n",
    "## Python Hashable \n",
    "\n",
    "An object is hashable if it has a hash value which never changes during its lifetime. \n",
    "\n",
    "It can have different values during multiple invocation of Python programs. \n",
    "\n",
    "A hashable object needs a _hash_()method. In order to perform comparisions, a hashable needs an _eq_() method\n",
    "\n",
    "\n",
    "## Python hash() function\n",
    "\n",
    "The hash() function returns the hash value of the object if it has one. Hash Values are intergers. They are used to quickly compare dictionary keys during a dictionary look up. Objects can implement the _hash_() method\n",
    "\n",
    "\n",
    "Source: https://zetcode.com/python/hashing/"
   ]
  },
  {
   "cell_type": "code",
   "execution_count": 34,
   "metadata": {},
   "outputs": [
    {
     "name": "stdout",
     "output_type": "stream",
     "text": [
      "100\n"
     ]
    }
   ],
   "source": [
    "val = 100\n",
    "\n",
    "print(val.__hash__())"
   ]
  },
  {
   "cell_type": "code",
   "execution_count": 32,
   "metadata": {},
   "outputs": [
    {
     "name": "stdout",
     "output_type": "stream",
     "text": [
      "-7766431189844635048\n"
     ]
    }
   ],
   "source": [
    "print(\"falcon\".__hash__())"
   ]
  },
  {
   "cell_type": "code",
   "execution_count": 33,
   "metadata": {},
   "outputs": [
    {
     "name": "stdout",
     "output_type": "stream",
     "text": [
      "3430019387558\n"
     ]
    }
   ],
   "source": [
    "print((1,).__hash__())"
   ]
  },
  {
   "cell_type": "code",
   "execution_count": 35,
   "metadata": {},
   "outputs": [],
   "source": [
    "# The examples above prints the values of three hashables"
   ]
  },
  {
   "cell_type": "code",
   "execution_count": 37,
   "metadata": {},
   "outputs": [],
   "source": [
    "#Python custom objects are hashable by default\n",
    "\n",
    "\n",
    "class User:\n",
    "    def __init__(self, name, occupation):\n",
    "        self.name = name\n",
    "        self.occupation = occupation\n",
    "    \n",
    "u1 = User('John Doe', 'gardener')\n",
    "u2 = User('John Doe', 'gardener')\n"
   ]
  },
  {
   "cell_type": "code",
   "execution_count": 38,
   "metadata": {},
   "outputs": [
    {
     "name": "stdout",
     "output_type": "stream",
     "text": [
      "hash of user 1\n",
      "8782355074765\n"
     ]
    }
   ],
   "source": [
    "print('hash of user 1')\n",
    "print(hash(u1))       "
   ]
  },
  {
   "cell_type": "code",
   "execution_count": 39,
   "metadata": {},
   "outputs": [
    {
     "name": "stdout",
     "output_type": "stream",
     "text": [
      "hash of user 2\n",
      "8782355074793\n"
     ]
    }
   ],
   "source": [
    "print('hash of user 2')\n",
    "print(hash(u2))       "
   ]
  },
  {
   "cell_type": "code",
   "execution_count": 40,
   "metadata": {},
   "outputs": [
    {
     "name": "stdout",
     "output_type": "stream",
     "text": [
      "different users\n"
     ]
    }
   ],
   "source": [
    "if(u1 == u2):\n",
    "    print('same user')\n",
    "else:\n",
    "    print('different users')"
   ]
  },
  {
   "cell_type": "markdown",
   "metadata": {},
   "source": [
    "Even thought the user details are the same, the comparison yields different objects. In order to change it, we need to implement the _eq__()method.\n",
    "\n",
    "## Python Custom Hashale example II"
   ]
  },
  {
   "cell_type": "code",
   "execution_count": 43,
   "metadata": {},
   "outputs": [],
   "source": [
    "class User:\n",
    "    \n",
    "    def __init__(self, name, occupation):\n",
    "        self.name = name\n",
    "        self.occupation = occupation\n",
    "        \n",
    "    def __eq__(self, other):\n",
    "        return self.name == other.name \\\n",
    "            and self.occupation == other.occupation\n",
    "    \n",
    "    def __str__(self):\n",
    "        return f'{self.name} {self.occupation}'"
   ]
  },
  {
   "cell_type": "code",
   "execution_count": 44,
   "metadata": {},
   "outputs": [],
   "source": [
    "u1 = User('John Doe', 'gardener')\n",
    "u2 = User('John Doe', 'gardener')"
   ]
  },
  {
   "cell_type": "code",
   "execution_count": 45,
   "metadata": {},
   "outputs": [
    {
     "name": "stdout",
     "output_type": "stream",
     "text": [
      "same user\n"
     ]
    }
   ],
   "source": [
    "if(u1 == u2):\n",
    "    print('same user')\n",
    "else:\n",
    "    print('different users')"
   ]
  },
  {
   "cell_type": "code",
   "execution_count": 46,
   "metadata": {},
   "outputs": [
    {
     "ename": "TypeError",
     "evalue": "unhashable type: 'User'",
     "output_type": "error",
     "traceback": [
      "\u001b[0;31m---------------------------------------------------------------------------\u001b[0m",
      "\u001b[0;31mTypeError\u001b[0m                                 Traceback (most recent call last)",
      "\u001b[0;32m<ipython-input-46-04d501a7e416>\u001b[0m in \u001b[0;36m<module>\u001b[0;34m\u001b[0m\n\u001b[0;32m----> 1\u001b[0;31m \u001b[0musers\u001b[0m \u001b[0;34m=\u001b[0m \u001b[0;34m{\u001b[0m\u001b[0mu1\u001b[0m\u001b[0;34m,\u001b[0m \u001b[0mu2\u001b[0m\u001b[0;34m}\u001b[0m\u001b[0;34m\u001b[0m\u001b[0;34m\u001b[0m\u001b[0m\n\u001b[0m",
      "\u001b[0;31mTypeError\u001b[0m: unhashable type: 'User'"
     ]
    }
   ],
   "source": [
    "users = {u1, u2}"
   ]
  },
  {
   "cell_type": "markdown",
   "metadata": {},
   "source": [
    "this error happens because we can not insert the objects into \n",
    "a Python set; it would result in Type Erro: unhashable type:\n",
    "'User'. In order to change this, we implement the _hash_() method "
   ]
  },
  {
   "cell_type": "code",
   "execution_count": 48,
   "metadata": {},
   "outputs": [],
   "source": [
    "class User:\n",
    "\n",
    "    def __init__(self, name, occupation):\n",
    "\n",
    "        self.name = name\n",
    "        self.occupation = occupation\n",
    "\n",
    "    def __eq__(self, other):\n",
    "\n",
    "        return self.name == other.name \\\n",
    "            and self.occupation == other.occupation\n",
    "\n",
    "    def __hash__(self):\n",
    "        return hash((self.name, self.occupation))\n",
    "\n",
    "    def __str__(self):\n",
    "        return f'{self.name} {self.occupation}'"
   ]
  },
  {
   "cell_type": "code",
   "execution_count": 49,
   "metadata": {},
   "outputs": [],
   "source": [
    "u1 = User('John Doe', 'gardener')\n",
    "u2 = User('John Doe', 'gardener')"
   ]
  },
  {
   "cell_type": "code",
   "execution_count": 50,
   "metadata": {},
   "outputs": [],
   "source": [
    "user = {u1, u2}"
   ]
  },
  {
   "cell_type": "code",
   "execution_count": 51,
   "metadata": {},
   "outputs": [
    {
     "name": "stdout",
     "output_type": "stream",
     "text": [
      "1\n"
     ]
    }
   ],
   "source": [
    "print(len(user))"
   ]
  },
  {
   "cell_type": "markdown",
   "metadata": {},
   "source": [
    "## PYTHON HASH() METHOD\n",
    "\n",
    "In the era of digital technology, Machine Learning, Artificial Intelligence and CyberSecurity are a rising phenomenon. Python stands put as a language tp implement much of the good sects of this\n",
    "\n",
    "\n",
    "Python offers hash() method to encode the data into unrecognisable value\n",
    "\n",
    "Source: https://www.geeksforgeeks.org/python-hash-method/"
   ]
  },
  {
   "cell_type": "code",
   "execution_count": 53,
   "metadata": {},
   "outputs": [],
   "source": [
    "#intializing objects \n",
    "\n",
    "int_val = 4\n",
    "str_val = 'GeeksforGeeks'\n",
    "flt_val = 24.56"
   ]
  },
  {
   "cell_type": "code",
   "execution_count": 59,
   "metadata": {},
   "outputs": [
    {
     "name": "stdout",
     "output_type": "stream",
     "text": [
      "The integer hash value is :4\n"
     ]
    }
   ],
   "source": [
    "print('The integer hash value is :' + str(hash(int_val)))"
   ]
  },
  {
   "cell_type": "code",
   "execution_count": 58,
   "metadata": {},
   "outputs": [
    {
     "name": "stdout",
     "output_type": "stream",
     "text": [
      "The string hash value is :7508515154489072767\n"
     ]
    }
   ],
   "source": [
    "print('The string hash value is :' + str(hash(str_val)))"
   ]
  },
  {
   "cell_type": "code",
   "execution_count": 57,
   "metadata": {},
   "outputs": [
    {
     "name": "stdout",
     "output_type": "stream",
     "text": [
      "The float hash value is :1291272085159665688\n"
     ]
    }
   ],
   "source": [
    "print('The float hash value is :' + str(hash(flt_val)))"
   ]
  },
  {
   "cell_type": "markdown",
   "metadata": {},
   "source": [
    "## Properties of hash()\n",
    "\n",
    "\n",
    "- Objects hashed using hash() are irreversible, leading to loss of information\n",
    "- hash() returnes hashed value for immutable objects, hence can ve used as an indicator to check for mutable/immutable objects "
   ]
  },
  {
   "cell_type": "code",
   "execution_count": 60,
   "metadata": {},
   "outputs": [],
   "source": [
    "#immutable\n",
    "tuple_val = (1,2,3,4,5)"
   ]
  },
  {
   "cell_type": "code",
   "execution_count": 61,
   "metadata": {},
   "outputs": [],
   "source": [
    "#mutuable\n",
    "list_val = [1,2,3,4,5]"
   ]
  },
  {
   "cell_type": "code",
   "execution_count": 62,
   "metadata": {},
   "outputs": [
    {
     "name": "stdout",
     "output_type": "stream",
     "text": [
      "The tuple hash value is : 8315274433719620810\n"
     ]
    },
    {
     "ename": "TypeError",
     "evalue": "unhashable type: 'list'",
     "output_type": "error",
     "traceback": [
      "\u001b[0;31m---------------------------------------------------------------------------\u001b[0m",
      "\u001b[0;31mTypeError\u001b[0m                                 Traceback (most recent call last)",
      "\u001b[0;32m<ipython-input-62-e9969dddbf97>\u001b[0m in \u001b[0;36m<module>\u001b[0;34m\u001b[0m\n\u001b[1;32m      1\u001b[0m \u001b[0mprint\u001b[0m\u001b[0;34m(\u001b[0m\u001b[0;34m\"The tuple hash value is : \"\u001b[0m \u001b[0;34m+\u001b[0m \u001b[0mstr\u001b[0m\u001b[0;34m(\u001b[0m\u001b[0mhash\u001b[0m\u001b[0;34m(\u001b[0m\u001b[0mtuple_val\u001b[0m\u001b[0;34m)\u001b[0m\u001b[0;34m)\u001b[0m\u001b[0;34m)\u001b[0m\u001b[0;34m\u001b[0m\u001b[0;34m\u001b[0m\u001b[0m\n\u001b[0;32m----> 2\u001b[0;31m \u001b[0mprint\u001b[0m\u001b[0;34m(\u001b[0m\u001b[0;34m\"The list hash value is: \"\u001b[0m \u001b[0;34m+\u001b[0m \u001b[0mstr\u001b[0m\u001b[0;34m(\u001b[0m\u001b[0mhash\u001b[0m\u001b[0;34m(\u001b[0m\u001b[0mlist_val\u001b[0m\u001b[0;34m)\u001b[0m\u001b[0;34m)\u001b[0m\u001b[0;34m)\u001b[0m\u001b[0;34m\u001b[0m\u001b[0;34m\u001b[0m\u001b[0m\n\u001b[0m",
      "\u001b[0;31mTypeError\u001b[0m: unhashable type: 'list'"
     ]
    }
   ],
   "source": [
    "print(\"The tuple hash value is : \" + str(hash(tuple_val)))\n",
    "print(\"The list hash value is: \" + str(hash(list_val)))"
   ]
  },
  {
   "cell_type": "markdown",
   "metadata": {},
   "source": [
    "# BINARY TREE"
   ]
  },
  {
   "cell_type": "markdown",
   "metadata": {},
   "source": [
    "Tree represent the nodes connected y edges. It is a non-linear data structure. It has the following properties.\n",
    "\n",
    "\n",
    "- One node is markes as Root Node \n",
    "- Every node other than the root is associated with one parent node\n",
    "- Each node can have an arbitary number of child node \n",
    "\n",
    "\n",
    "\n",
    "We create a tree data structure in python by designating one node as root node and then add more nodes as child nodes. Below is program to create the root node."
   ]
  },
  {
   "cell_type": "code",
   "execution_count": 64,
   "metadata": {},
   "outputs": [],
   "source": [
    "#Create a root node\n",
    "\n",
    "\n",
    "class Node:\n",
    "    \n",
    "    def __init__(self, data):\n",
    "        self.data = data\n",
    "        self.right = None\n",
    "        self.left = None\n",
    "        \n",
    "    def PrintTree(self):\n",
    "        print(self.data)\n",
    "        \n",
    "root = Node(10)"
   ]
  },
  {
   "cell_type": "code",
   "execution_count": 65,
   "metadata": {},
   "outputs": [
    {
     "name": "stdout",
     "output_type": "stream",
     "text": [
      "10\n"
     ]
    }
   ],
   "source": [
    "root.PrintTree()"
   ]
  },
  {
   "cell_type": "code",
   "execution_count": 66,
   "metadata": {},
   "outputs": [],
   "source": [
    "#Inserting into a tree\n",
    "\n",
    "class Node:\n",
    "    \n",
    "    def __init__ (self, data):\n",
    "        self.data = data\n",
    "        self.right = None\n",
    "        self.left = None\n",
    "        \n",
    "        \n",
    "    def insert(self, data):\n",
    "        \n",
    "        #compare the new value with the parent node\n",
    "        \n",
    "        if self.data:\n",
    "            #if data is less then original data(head)\n",
    "            if data < self.data:\n",
    "                #check if the left side(left child) of the head == None \n",
    "                if self.left is None:\n",
    "                    #insert data\n",
    "                    self.left = Node(data)\n",
    "                else:\n",
    "                    self.left.insert(data)\n",
    "            elif data > self.data:\n",
    "                if self.right is None:\n",
    "                    self.right = Node(data)\n",
    "                else:\n",
    "                    self.right.insert(data)\n",
    "            #empty root\n",
    "            else:\n",
    "                self.data = data\n",
    "    def PrintTree(self):\n",
    "        if self.left:\n",
    "            self.left.PrintTree()\n",
    "        print(self.data),\n",
    "        if self.right:\n",
    "            self.right.PrintTree()\n",
    "\n",
    "            "
   ]
  },
  {
   "cell_type": "code",
   "execution_count": 67,
   "metadata": {},
   "outputs": [],
   "source": [
    "#Inserting new nodes\n",
    "\n",
    "root = Node(12)"
   ]
  },
  {
   "cell_type": "code",
   "execution_count": 68,
   "metadata": {},
   "outputs": [],
   "source": [
    "root.insert(16)"
   ]
  },
  {
   "cell_type": "code",
   "execution_count": 69,
   "metadata": {},
   "outputs": [],
   "source": [
    "root.insert(14)"
   ]
  },
  {
   "cell_type": "code",
   "execution_count": 70,
   "metadata": {},
   "outputs": [],
   "source": [
    "root.insert(3)"
   ]
  },
  {
   "cell_type": "code",
   "execution_count": 71,
   "metadata": {},
   "outputs": [
    {
     "name": "stdout",
     "output_type": "stream",
     "text": [
      "3\n",
      "12\n",
      "14\n",
      "16\n"
     ]
    }
   ],
   "source": [
    "root.PrintTree()"
   ]
  },
  {
   "cell_type": "code",
   "execution_count": 72,
   "metadata": {},
   "outputs": [
    {
     "data": {
      "text/plain": [
       "<__main__.Node at 0x7fccd2781490>"
      ]
     },
     "execution_count": 72,
     "metadata": {},
     "output_type": "execute_result"
    }
   ],
   "source": []
  },
  {
   "cell_type": "code",
   "execution_count": 73,
   "metadata": {},
   "outputs": [
    {
     "data": {
      "text/plain": [
       "12"
      ]
     },
     "execution_count": 73,
     "metadata": {},
     "output_type": "execute_result"
    }
   ],
   "source": [
    "root.data"
   ]
  },
  {
   "cell_type": "markdown",
   "metadata": {},
   "source": [
    "## Traversing a Tree\n",
    "\n",
    "The tree can be transvered by deciding on a sequence to visit each node. As we can clearly see we can start at a node then visit the left subtree first and right sub tree next. \n",
    "\n",
    "\n",
    "Or we can also visit the right sub-tree and left sub-tree next.\n",
    "\n",
    "Accordingly there are different names for these tree traversal methods. We study them in detail in the chapter implemetnting the tree traversal algorithms here.\n",
    "\n",
    "\n"
   ]
  },
  {
   "cell_type": "markdown",
   "metadata": {},
   "source": [
    "# BINARY SEARCH TREE\n",
    "\n",
    "A binary Search tree is a tree in which all the nodes follow the below mentioned properties. - The left sub-tree of a node has a key less than or equal to its paretn node's key. The right sub-tree of a node has a key greater than to its parent node's key. \n",
    "\n",
    "Thus the BST divides all its sub-trees into two segments; the left sub-tree and the right sub-tree and can be defined as \n",
    "\n",
    "left_subtree(keys) <= node(key) <= right_subtree(keys)"
   ]
  },
  {
   "cell_type": "code",
   "execution_count": 91,
   "metadata": {},
   "outputs": [],
   "source": [
    "#Search for a value in a BST\n",
    "\n",
    "class Node:\n",
    "    def __init__ (self, data):\n",
    "        \n",
    "        self.left = None\n",
    "        self.right = None\n",
    "        self.data = data\n",
    "        \n",
    "    def insert(self, data):\n",
    "        if self.data:\n",
    "            if data > self.data:\n",
    "                if self.right is None:\n",
    "                    self.right = Node(data)\n",
    "                else:\n",
    "                    self.right.insert(data)\n",
    "            elif data < self.data:\n",
    "                if self.left is None:\n",
    "                    self.left = Node(data)\n",
    "                else:\n",
    "                    self.left.insert(data)\n",
    "            else:\n",
    "                self.data = data\n",
    "                \n",
    "    def findval(self, lkpval):\n",
    "        if lkpval < self.data:\n",
    "            if self.left is None:\n",
    "                return str(lkpval) +\" Not found\"\n",
    "            return self.left.findval(lkpval)\n",
    "        elif lkpval > self.data:\n",
    "            if self.right is None:\n",
    "                return str(lkpval) + \" Not Found\"\n",
    "            return self.right.findval(lkpval)\n",
    "        else:\n",
    "            print(str(self.data) + ' is found')\n",
    "    \n",
    "    #print Tree\n",
    "    def PrintTree(self):\n",
    "        if self.left:\n",
    "            self.left.PrintTree()\n",
    "        print(self.data)\n",
    "        if self.right:\n",
    "            self.right.Printtree()\n",
    "            \n",
    "        "
   ]
  },
  {
   "cell_type": "code",
   "execution_count": 92,
   "metadata": {},
   "outputs": [],
   "source": [
    "root = Node(12)"
   ]
  },
  {
   "cell_type": "code",
   "execution_count": 93,
   "metadata": {},
   "outputs": [
    {
     "name": "stdout",
     "output_type": "stream",
     "text": [
      "7 Not Found\n"
     ]
    }
   ],
   "source": [
    "root.insert(6)\n",
    "root.insert(14)\n",
    "root.insert(3)\n",
    "print(root.findval(7))"
   ]
  },
  {
   "cell_type": "code",
   "execution_count": 94,
   "metadata": {},
   "outputs": [
    {
     "name": "stdout",
     "output_type": "stream",
     "text": [
      "14 is found\n",
      "None\n"
     ]
    }
   ],
   "source": [
    "print(root.findval(14))"
   ]
  },
  {
   "cell_type": "code",
   "execution_count": null,
   "metadata": {},
   "outputs": [],
   "source": []
  }
 ],
 "metadata": {
  "kernelspec": {
   "display_name": "Python 3",
   "language": "python",
   "name": "python3"
  },
  "language_info": {
   "codemirror_mode": {
    "name": "ipython",
    "version": 3
   },
   "file_extension": ".py",
   "mimetype": "text/x-python",
   "name": "python",
   "nbconvert_exporter": "python",
   "pygments_lexer": "ipython3",
   "version": "3.7.6"
  }
 },
 "nbformat": 4,
 "nbformat_minor": 4
}
